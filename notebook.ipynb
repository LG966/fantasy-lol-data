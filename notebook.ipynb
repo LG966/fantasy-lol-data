{
 "cells": [
  {
   "cell_type": "code",
   "execution_count": 1,
   "metadata": {},
   "outputs": [],
   "source": [
    "import pandas as pd\n",
    "from matplotlib import pyplot as plt\n",
    "import seaborn as sns"
   ]
  },
  {
   "cell_type": "code",
   "execution_count": 2,
   "metadata": {},
   "outputs": [
    {
     "data": {
      "text/html": [
       "<div>\n",
       "<style scoped>\n",
       "    .dataframe tbody tr th:only-of-type {\n",
       "        vertical-align: middle;\n",
       "    }\n",
       "\n",
       "    .dataframe tbody tr th {\n",
       "        vertical-align: top;\n",
       "    }\n",
       "\n",
       "    .dataframe thead th {\n",
       "        text-align: right;\n",
       "    }\n",
       "</style>\n",
       "<table border=\"1\" class=\"dataframe\">\n",
       "  <thead>\n",
       "    <tr style=\"text-align: right;\">\n",
       "      <th></th>\n",
       "      <th>points</th>\n",
       "      <th>item</th>\n",
       "      <th>team</th>\n",
       "      <th>role</th>\n",
       "      <th>opponent</th>\n",
       "    </tr>\n",
       "  </thead>\n",
       "  <tbody>\n",
       "    <tr>\n",
       "      <th>0</th>\n",
       "      <td>16</td>\n",
       "      <td>Arcane Adrenaline</td>\n",
       "      <td>BDS Academy</td>\n",
       "      <td>top</td>\n",
       "      <td>LDLC OL</td>\n",
       "    </tr>\n",
       "    <tr>\n",
       "      <th>1</th>\n",
       "      <td>0</td>\n",
       "      <td>Arcane Explosive</td>\n",
       "      <td>BDS Academy</td>\n",
       "      <td>top</td>\n",
       "      <td>LDLC OL</td>\n",
       "    </tr>\n",
       "    <tr>\n",
       "      <th>2</th>\n",
       "      <td>0</td>\n",
       "      <td>Beast Hunter</td>\n",
       "      <td>BDS Academy</td>\n",
       "      <td>top</td>\n",
       "      <td>LDLC OL</td>\n",
       "    </tr>\n",
       "    <tr>\n",
       "      <th>3</th>\n",
       "      <td>0</td>\n",
       "      <td>Being of Light</td>\n",
       "      <td>BDS Academy</td>\n",
       "      <td>top</td>\n",
       "      <td>LDLC OL</td>\n",
       "    </tr>\n",
       "    <tr>\n",
       "      <th>4</th>\n",
       "      <td>14</td>\n",
       "      <td>Berseker Ax</td>\n",
       "      <td>BDS Academy</td>\n",
       "      <td>top</td>\n",
       "      <td>LDLC OL</td>\n",
       "    </tr>\n",
       "  </tbody>\n",
       "</table>\n",
       "</div>"
      ],
      "text/plain": [
       "   points               item         team role opponent\n",
       "0      16  Arcane Adrenaline  BDS Academy  top  LDLC OL\n",
       "1       0   Arcane Explosive  BDS Academy  top  LDLC OL\n",
       "2       0       Beast Hunter  BDS Academy  top  LDLC OL\n",
       "3       0     Being of Light  BDS Academy  top  LDLC OL\n",
       "4      14        Berseker Ax  BDS Academy  top  LDLC OL"
      ]
     },
     "execution_count": 2,
     "metadata": {},
     "output_type": "execute_result"
    }
   ],
   "source": [
    "df = pd.read_csv('data/items-stats.csv')\n",
    "df.head()"
   ]
  },
  {
   "cell_type": "code",
   "execution_count": 3,
   "metadata": {},
   "outputs": [
    {
     "data": {
      "text/plain": [
       "array(['BDS Academy', 'LDLC OL', 'BK ROG', 'Solary', 'Vitality.Bee',\n",
       "       'Aegis', 'Team GO', 'Karmine Corp', 'GameWard', 'IziDream'],\n",
       "      dtype=object)"
      ]
     },
     "execution_count": 3,
     "metadata": {},
     "output_type": "execute_result"
    }
   ],
   "source": [
    "df.team.unique()"
   ]
  },
  {
   "cell_type": "code",
   "execution_count": 4,
   "metadata": {},
   "outputs": [
    {
     "data": {
      "text/html": [
       "<div>\n",
       "<style scoped>\n",
       "    .dataframe tbody tr th:only-of-type {\n",
       "        vertical-align: middle;\n",
       "    }\n",
       "\n",
       "    .dataframe tbody tr th {\n",
       "        vertical-align: top;\n",
       "    }\n",
       "\n",
       "    .dataframe thead th {\n",
       "        text-align: right;\n",
       "    }\n",
       "</style>\n",
       "<table border=\"1\" class=\"dataframe\">\n",
       "  <thead>\n",
       "    <tr style=\"text-align: right;\">\n",
       "      <th></th>\n",
       "      <th>item</th>\n",
       "      <th>cost</th>\n",
       "    </tr>\n",
       "  </thead>\n",
       "  <tbody>\n",
       "    <tr>\n",
       "      <th>0</th>\n",
       "      <td>Wild Claw</td>\n",
       "      <td>3</td>\n",
       "    </tr>\n",
       "    <tr>\n",
       "      <th>1</th>\n",
       "      <td>Sharp Blade</td>\n",
       "      <td>3</td>\n",
       "    </tr>\n",
       "    <tr>\n",
       "      <th>2</th>\n",
       "      <td>Scale Tearer</td>\n",
       "      <td>3</td>\n",
       "    </tr>\n",
       "    <tr>\n",
       "      <th>3</th>\n",
       "      <td>Spirit of the Squire</td>\n",
       "      <td>3</td>\n",
       "    </tr>\n",
       "    <tr>\n",
       "      <th>4</th>\n",
       "      <td>Big Worm Hunter</td>\n",
       "      <td>3</td>\n",
       "    </tr>\n",
       "  </tbody>\n",
       "</table>\n",
       "</div>"
      ],
      "text/plain": [
       "                   item  cost\n",
       "0             Wild Claw     3\n",
       "1           Sharp Blade     3\n",
       "2          Scale Tearer     3\n",
       "3  Spirit of the Squire     3\n",
       "4       Big Worm Hunter     3"
      ]
     },
     "execution_count": 4,
     "metadata": {},
     "output_type": "execute_result"
    }
   ],
   "source": [
    "df_items = pd.read_csv('data/items-costs.csv')\n",
    "df_items.head()"
   ]
  },
  {
   "cell_type": "code",
   "execution_count": 5,
   "metadata": {},
   "outputs": [
    {
     "data": {
      "text/html": [
       "<div>\n",
       "<style scoped>\n",
       "    .dataframe tbody tr th:only-of-type {\n",
       "        vertical-align: middle;\n",
       "    }\n",
       "\n",
       "    .dataframe tbody tr th {\n",
       "        vertical-align: top;\n",
       "    }\n",
       "\n",
       "    .dataframe thead th {\n",
       "        text-align: right;\n",
       "    }\n",
       "</style>\n",
       "<table border=\"1\" class=\"dataframe\">\n",
       "  <thead>\n",
       "    <tr style=\"text-align: right;\">\n",
       "      <th></th>\n",
       "      <th>points</th>\n",
       "      <th>item</th>\n",
       "      <th>team</th>\n",
       "      <th>role</th>\n",
       "      <th>opponent</th>\n",
       "      <th>cost</th>\n",
       "    </tr>\n",
       "  </thead>\n",
       "  <tbody>\n",
       "    <tr>\n",
       "      <th>0</th>\n",
       "      <td>16</td>\n",
       "      <td>Arcane Adrenaline</td>\n",
       "      <td>BDS Academy</td>\n",
       "      <td>top</td>\n",
       "      <td>LDLC OL</td>\n",
       "      <td>1</td>\n",
       "    </tr>\n",
       "    <tr>\n",
       "      <th>1</th>\n",
       "      <td>0</td>\n",
       "      <td>Arcane Adrenaline</td>\n",
       "      <td>BDS Academy</td>\n",
       "      <td>jungle</td>\n",
       "      <td>LDLC OL</td>\n",
       "      <td>1</td>\n",
       "    </tr>\n",
       "    <tr>\n",
       "      <th>2</th>\n",
       "      <td>0</td>\n",
       "      <td>Arcane Adrenaline</td>\n",
       "      <td>BDS Academy</td>\n",
       "      <td>mid</td>\n",
       "      <td>LDLC OL</td>\n",
       "      <td>1</td>\n",
       "    </tr>\n",
       "    <tr>\n",
       "      <th>3</th>\n",
       "      <td>0</td>\n",
       "      <td>Arcane Adrenaline</td>\n",
       "      <td>BDS Academy</td>\n",
       "      <td>bot</td>\n",
       "      <td>LDLC OL</td>\n",
       "      <td>1</td>\n",
       "    </tr>\n",
       "    <tr>\n",
       "      <th>4</th>\n",
       "      <td>0</td>\n",
       "      <td>Arcane Adrenaline</td>\n",
       "      <td>BDS Academy</td>\n",
       "      <td>support</td>\n",
       "      <td>LDLC OL</td>\n",
       "      <td>1</td>\n",
       "    </tr>\n",
       "  </tbody>\n",
       "</table>\n",
       "</div>"
      ],
      "text/plain": [
       "   points               item         team     role opponent  cost\n",
       "0      16  Arcane Adrenaline  BDS Academy      top  LDLC OL     1\n",
       "1       0  Arcane Adrenaline  BDS Academy   jungle  LDLC OL     1\n",
       "2       0  Arcane Adrenaline  BDS Academy      mid  LDLC OL     1\n",
       "3       0  Arcane Adrenaline  BDS Academy      bot  LDLC OL     1\n",
       "4       0  Arcane Adrenaline  BDS Academy  support  LDLC OL     1"
      ]
     },
     "execution_count": 5,
     "metadata": {},
     "output_type": "execute_result"
    }
   ],
   "source": [
    "# df completed with item cost with a join\n",
    "df = df.merge(df_items, on='item', how='inner')\n",
    "df.head()"
   ]
  },
  {
   "cell_type": "code",
   "execution_count": 7,
   "metadata": {},
   "outputs": [
    {
     "ename": "ValueError",
     "evalue": "The truth value of a Series is ambiguous. Use a.empty, a.bool(), a.item(), a.any() or a.all().",
     "output_type": "error",
     "traceback": [
      "\u001b[1;31m---------------------------------------------------------------------------\u001b[0m",
      "\u001b[1;31mValueError\u001b[0m                                Traceback (most recent call last)",
      "\u001b[1;32mc:\\Users\\mourr\\fantasy-lol\\notebook.ipynb Cellule 6\u001b[0m in \u001b[0;36m<cell line: 5>\u001b[1;34m()\u001b[0m\n\u001b[0;32m      <a href='vscode-notebook-cell:/c%3A/Users/mourr/fantasy-lol/notebook.ipynb#W5sZmlsZQ%3D%3D?line=0'>1</a>\u001b[0m role \u001b[39m=\u001b[39m \u001b[39m\"\u001b[39m\u001b[39mbot\u001b[39m\u001b[39m\"\u001b[39m\n\u001b[0;32m      <a href='vscode-notebook-cell:/c%3A/Users/mourr/fantasy-lol/notebook.ipynb#W5sZmlsZQ%3D%3D?line=2'>3</a>\u001b[0m palette \u001b[39m=\u001b[39m [\u001b[39m\"\u001b[39m\u001b[39m#D8D8D8\u001b[39m\u001b[39m\"\u001b[39m, \u001b[39m\"\u001b[39m\u001b[39m#20BECE\u001b[39m\u001b[39m\"\u001b[39m, \u001b[39m\"\u001b[39m\u001b[39m#F37BFF\u001b[39m\u001b[39m\"\u001b[39m, \u001b[39m\"\u001b[39m\u001b[39m#F2B036\u001b[39m\u001b[39m\"\u001b[39m]\n\u001b[1;32m----> <a href='vscode-notebook-cell:/c%3A/Users/mourr/fantasy-lol/notebook.ipynb#W5sZmlsZQ%3D%3D?line=4'>5</a>\u001b[0m mean_df \u001b[39m=\u001b[39m df[(df\u001b[39m.\u001b[39mrole \u001b[39m==\u001b[39m role) \u001b[39mand\u001b[39;00m (df\u001b[39m.\u001b[39mopponent \u001b[39m==\u001b[39m \u001b[39m\"\u001b[39m\u001b[39mIziDream\u001b[39m\u001b[39m\"\u001b[39m)]\u001b[39m.\u001b[39mgroupby(\u001b[39m'\u001b[39m\u001b[39mitem\u001b[39m\u001b[39m'\u001b[39m, as_index\u001b[39m=\u001b[39m\u001b[39mFalse\u001b[39;00m)\u001b[39m.\u001b[39mmean(\u001b[39m\"\u001b[39m\u001b[39mpoints\u001b[39m\u001b[39m\"\u001b[39m)\u001b[39m.\u001b[39msort_values(\u001b[39m\"\u001b[39m\u001b[39mpoints\u001b[39m\u001b[39m\"\u001b[39m, ascending\u001b[39m=\u001b[39m\u001b[39mFalse\u001b[39;00m)\n\u001b[0;32m      <a href='vscode-notebook-cell:/c%3A/Users/mourr/fantasy-lol/notebook.ipynb#W5sZmlsZQ%3D%3D?line=6'>7</a>\u001b[0m plt\u001b[39m.\u001b[39mfigure(figsize\u001b[39m=\u001b[39m(\u001b[39m12\u001b[39m,\u001b[39m10\u001b[39m))\n\u001b[0;32m      <a href='vscode-notebook-cell:/c%3A/Users/mourr/fantasy-lol/notebook.ipynb#W5sZmlsZQ%3D%3D?line=7'>8</a>\u001b[0m ax \u001b[39m=\u001b[39m sns\u001b[39m.\u001b[39mbarplot(x\u001b[39m=\u001b[39m\u001b[39m\"\u001b[39m\u001b[39mpoints\u001b[39m\u001b[39m\"\u001b[39m, y\u001b[39m=\u001b[39m\u001b[39m\"\u001b[39m\u001b[39mitem\u001b[39m\u001b[39m\"\u001b[39m, data\u001b[39m=\u001b[39mmean_df, hue\u001b[39m=\u001b[39m\u001b[39m\"\u001b[39m\u001b[39mcost\u001b[39m\u001b[39m\"\u001b[39m, palette\u001b[39m=\u001b[39mpalette, dodge\u001b[39m=\u001b[39m\u001b[39mFalse\u001b[39;00m)\u001b[39m.\u001b[39mset_title(role)\n",
      "File \u001b[1;32m~\\AppData\\Local\\Packages\\PythonSoftwareFoundation.Python.3.10_qbz5n2kfra8p0\\LocalCache\\local-packages\\Python310\\site-packages\\pandas\\core\\generic.py:1527\u001b[0m, in \u001b[0;36mNDFrame.__nonzero__\u001b[1;34m(self)\u001b[0m\n\u001b[0;32m   1525\u001b[0m \u001b[39m@final\u001b[39m\n\u001b[0;32m   1526\u001b[0m \u001b[39mdef\u001b[39;00m \u001b[39m__nonzero__\u001b[39m(\u001b[39mself\u001b[39m):\n\u001b[1;32m-> 1527\u001b[0m     \u001b[39mraise\u001b[39;00m \u001b[39mValueError\u001b[39;00m(\n\u001b[0;32m   1528\u001b[0m         \u001b[39mf\u001b[39m\u001b[39m\"\u001b[39m\u001b[39mThe truth value of a \u001b[39m\u001b[39m{\u001b[39;00m\u001b[39mtype\u001b[39m(\u001b[39mself\u001b[39m)\u001b[39m.\u001b[39m\u001b[39m__name__\u001b[39m\u001b[39m}\u001b[39;00m\u001b[39m is ambiguous. \u001b[39m\u001b[39m\"\u001b[39m\n\u001b[0;32m   1529\u001b[0m         \u001b[39m\"\u001b[39m\u001b[39mUse a.empty, a.bool(), a.item(), a.any() or a.all().\u001b[39m\u001b[39m\"\u001b[39m\n\u001b[0;32m   1530\u001b[0m     )\n",
      "\u001b[1;31mValueError\u001b[0m: The truth value of a Series is ambiguous. Use a.empty, a.bool(), a.item(), a.any() or a.all()."
     ]
    }
   ],
   "source": [
    "role = \"bot\"\n",
    "\n",
    "palette = [\"#D8D8D8\", \"#20BECE\", \"#F37BFF\", \"#F2B036\"]\n",
    "\n",
    "mean_df = df[(df.role == role) & (df.opponent == \"IziDream\")].groupby('item', as_index=False).mean(\"points\").sort_values(\"points\", ascending=False)\n",
    "\n",
    "plt.figure(figsize=(12,10))\n",
    "ax = sns.barplot(x=\"points\", y=\"item\", data=mean_df, hue=\"cost\", palette=palette, dodge=False).set_title(role)"
   ]
  },
  {
   "cell_type": "code",
   "execution_count": null,
   "metadata": {},
   "outputs": [],
   "source": []
  }
 ],
 "metadata": {
  "kernelspec": {
   "display_name": "Python 3",
   "language": "python",
   "name": "python3"
  },
  "language_info": {
   "codemirror_mode": {
    "name": "ipython",
    "version": 3
   },
   "file_extension": ".py",
   "mimetype": "text/x-python",
   "name": "python",
   "nbconvert_exporter": "python",
   "pygments_lexer": "ipython3",
   "version": "3.10.10"
  },
  "orig_nbformat": 4,
  "vscode": {
   "interpreter": {
    "hash": "a434565188d810c0c1bb8bed8b5d9550f501444c6a4aa373933d9c9c31601849"
   }
  }
 },
 "nbformat": 4,
 "nbformat_minor": 2
}
